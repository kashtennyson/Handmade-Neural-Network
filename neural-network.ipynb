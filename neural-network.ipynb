{
 "cells": [
  {
   "cell_type": "markdown",
   "metadata": {},
   "source": [
    "# Handmade Neural Network\n",
    "_______________________________________________________________________________________________________________________________\n",
    "## Skeleton of the Code:\n",
    "\n",
    "The following code will be presented in 6 distinct steps\n",
    "\n",
    "* Creating data - We have created X to Y mappings of a fairly complex polynomial function $ y = (x+3)(x-2)^2(x+1)^3 $.\n",
    "* Creating specific functions - To build the neural network we will implement several specific functions for their specific tasks as suggested by their names.\n",
    "* Creating model - To build the neural network we will create a model function that will bring use of all the specific functions, implemented earlier, in a cohesive way.\n",
    "* Training model - Finally we will train our model by passing in the data and appropriate keyword arguments.  \n",
    "* Validating model - Then we will validate our model by using the validtaion data.\n",
    "* Plotting comparisons - Finally we will plot the comparison between the actual values from our validation set and the values predicted by the model."
   ]
  },
  {
   "cell_type": "code",
   "execution_count": 1,
   "metadata": {},
   "outputs": [],
   "source": [
    "#importing packages\n",
    "import numpy as np\n",
    "import matplotlib as mpl\n",
    "import matplotlib.pyplot as plt\n",
    "import utils\n",
    "\n",
    "#importing style\n",
    "plt.style.use('seaborn')\n",
    "\n",
    "#setting up rc settings\n",
    "mpl.rcParams['axes.grid'] = False\n",
    "mpl.rcParams['lines.linewidth'] = 0.7\n",
    "mpl.rcParams['lines.markersize'] = 4\n",
    "mpl.rcParams['figure.figsize'] = 12.5, 7.5"
   ]
  },
  {
   "cell_type": "markdown",
   "metadata": {},
   "source": [
    "### Creating data:\n",
    "\n",
    "We have created X to Y mappings for a fairly complex polynomial function $ y = (x+3)(x-2)^2(x+1)^3 $.\n",
    "We have shuffled the data (X Values) so as improve the generalizability of neural network and to remove any bias.\n",
    "We are using 1000 examples from domain [-3 , 2.5] to train and 100 examples from domain [-4, 4] to validate the model.  "
   ]
  },
  {
   "cell_type": "code",
   "execution_count": 2,
   "metadata": {},
   "outputs": [],
   "source": [
    "#creating training data\n",
    "X = np.linspace(-3, 2.5, 1000).reshape(1, 1000)\n",
    "X = np.random.permutation(X)\n",
    "Y = (X+3)*(np.power((X-2),2))*(np.power((X+1), 3))\n",
    "\n",
    "#creating validation data\n",
    "X_Val = np.linspace(-4, 4, 100).reshape(1,100)\n",
    "Y_Val = (X_Val+3)*(np.power((X_Val-2),2))*(np.power((X_Val+1), 3))"
   ]
  },
  {
   "cell_type": "code",
   "execution_count": 3,
   "metadata": {},
   "outputs": [
    {
     "name": "stdout",
     "output_type": "stream",
     "text": [
      "The shape of X is: (1, 1000)\n",
      "The shape of Y is: (1, 1000)\n",
      "I have m = 1000 training examples!\n"
     ]
    }
   ],
   "source": [
    "#determining dimensions of data\n",
    "shape_X = X.shape\n",
    "shape_Y = Y.shape\n",
    "m = Y.shape[1]\n",
    "\n",
    "print ('The shape of X is: ' + str(shape_X))\n",
    "print ('The shape of Y is: ' + str(shape_Y))\n",
    "print ('I have m =', m, 'training examples!')"
   ]
  },
  {
   "cell_type": "markdown",
   "metadata": {},
   "source": [
    "### Creating specific functions:\n",
    "\n",
    "To build the neural network we will implement several specific functions for their specific tasks as suggested by their names.\n",
    "There are 11 specific functions in total which will be incorporated in the model function later to make it easier to implement and control the functionality of the neural network architecture."
   ]
  },
  {
   "cell_type": "code",
   "execution_count": 4,
   "metadata": {},
   "outputs": [],
   "source": [
    "def layer_structure(X, Y, architecture):\n",
    "    \n",
    "    \"\"\"\n",
    "    Implements a function to intialize the structure of the network i.e. the number of layers and\n",
    "    corresponding number of units in each layer.\n",
    "    \n",
    "    Arguments:\n",
    "    X -- data, numpy array of shape (1, number of examples).\n",
    "    Y -- numpy array of shape (1, number of examples) containing corresponding y mappings\n",
    "    of the function f: x -> y.\n",
    "    architecture -- python list containing the configuration of the network.\n",
    "    For eg : [10, 5, 1] means network has 3 layers with 10, 5 and 1 units in corresponding layers.\n",
    "    \n",
    "    Returns:\n",
    "    all_layers_dims -- numpy array containing the configuration of the network (including input layer).\n",
    "    \"\"\"\n",
    "    \n",
    "    n_x = np.array([X.shape[0]])\n",
    "    n_y = np.array([Y.shape[0]])\n",
    "    \n",
    "    #dimensions of (hidden + output) layers\n",
    "    hidden_output_layers_dims = np.array(architecture)                                      \n",
    "    \n",
    "    assert hidden_output_layers_dims[-1] == n_y[0]\n",
    "    \n",
    "    hidden_layers_dims = hidden_output_layers_dims[:-1]                          \n",
    "    \n",
    "    all_layers_dims = np.concatenate((n_x, hidden_layers_dims, n_y))             \n",
    "    \n",
    "    global L_\n",
    "    L_ = len(all_layers_dims)                                                    \n",
    "    \n",
    "    #number of (hidden + output) layers\n",
    "    global L\n",
    "    L = len(hidden_layers_dims) + 1                                              \n",
    "\n",
    "    return all_layers_dims"
   ]
  },
  {
   "cell_type": "code",
   "execution_count": 5,
   "metadata": {},
   "outputs": [],
   "source": [
    "def initialize_parameters_deep(all_layers_dims):\n",
    "    \n",
    "    \"\"\"\n",
    "    Implements a function that initializes each layer of the network.\n",
    "    \n",
    "    Arguments:\n",
    "    all_layers_dims --  numpy array containing the configuration of the network (including input layer).\n",
    "    \n",
    "    Returns:\n",
    "    parameters -- initialized parameters (weights and biases) by the function.\n",
    "    \"\"\"\n",
    "    \n",
    "    parameters = {}\n",
    "    \n",
    "    for l in range(1, L_):\n",
    "        parameters['W' + str(l)] = np.random.randn(all_layers_dims[l], all_layers_dims[l-1])*0.01\n",
    "        parameters['b' + str(l)] = np.zeros((all_layers_dims[l], 1))\n",
    "        \n",
    "    return parameters"
   ]
  },
  {
   "cell_type": "code",
   "execution_count": 6,
   "metadata": {},
   "outputs": [],
   "source": [
    "def activation_structure(activations):\n",
    "    \n",
    "    \"\"\"\n",
    "    Implements a function that pairs each layer of the network with its corresponding activation function.\n",
    "    \n",
    "    Arguments:\n",
    "    activations -- python list containing the names of activations for corresponding layers.\n",
    "    \n",
    "    Returns:\n",
    "    structure -- python list pairing each layer with its corresponding activation function.\n",
    "    \"\"\"\n",
    "    \n",
    "    #combined structure in form like ---[(1, \"relu\"),(2, \"sigmoid\"),(3, \"linear\")] for eg.\n",
    "    structure = []\n",
    "    \n",
    "    for l, activation in enumerate(activations, 1):\n",
    "        structure.append((l, activation))\n",
    "        \n",
    "    return structure  "
   ]
  },
  {
   "cell_type": "code",
   "execution_count": 7,
   "metadata": {},
   "outputs": [],
   "source": [
    "def linear_forward(A, W, b):\n",
    "    \n",
    "    \"\"\"\n",
    "    Implement the linear part of a layer's forward propagation.\n",
    "\n",
    "    Arguments:\n",
    "    A -- activations from previous layer (or input data): (size of previous layer, number of examples).\n",
    "    W -- weights matrix: numpy array of shape (size of current layer, size of previous layer).\n",
    "    b -- bias vector, numpy array of shape (size of the current layer, 1).\n",
    "\n",
    "    Returns:\n",
    "    Z -- the input of the activation function, also called pre-activation parameter.\n",
    "    cache -- a python tuple containing \"A\", \"W\" and \"b\" ; stored for computing the backward pass efficiently.\n",
    "    \"\"\"\n",
    "    \n",
    "    Z = np.dot(W, A) + b\n",
    "    cache = (A, W, b)\n",
    "    \n",
    "    return Z, cache"
   ]
  },
  {
   "cell_type": "code",
   "execution_count": 8,
   "metadata": {},
   "outputs": [],
   "source": [
    "def linear_activation_forward(A_prev, W, b, activation):\n",
    "    \n",
    "    \"\"\"\n",
    "    Implement the forward propagation for the LINEAR->ACTIVATION layer.\n",
    "\n",
    "    Arguments:\n",
    "    A_prev -- activations from previous layer (or input data): (size of previous layer, number of examples).\n",
    "    W -- weights matrix: numpy array of shape (size of current layer, size of previous layer).\n",
    "    b -- bias vector, numpy array of shape (size of the current layer, 1).\n",
    "    activation -- the activation to be used in this layer, stored as a text string: \"sigmoid\" or \"relu\" or \"linear\".\n",
    "\n",
    "    Returns:\n",
    "    A -- the output of the activation function, also called the post-activation value.\n",
    "    cache -- a python tuple containing \"linear_cache\" and \"activation_cache\";\n",
    "             stored for computing the backward pass efficiently.\n",
    "    \"\"\"\n",
    "    \n",
    "    if activation == \"linear\":\n",
    "        Z, linear_cache = linear_forward(A_prev, W, b)\n",
    "        A, activation_cache = utils.linear_function(Z)\n",
    "        \n",
    "    elif activation == \"sigmoid\":\n",
    "        Z, linear_cache = linear_forward(A_prev, W, b)\n",
    "        A, activation_cache = utils.sigmoid(Z)\n",
    "        \n",
    "    elif activation == \"relu\":\n",
    "        Z, linear_cache = linear_forward(A_prev, W, b)\n",
    "        A, activation_cache = utils.relu(Z)\n",
    "        \n",
    "    cache = (linear_cache, activation_cache)\n",
    "    \n",
    "    return A, cache"
   ]
  },
  {
   "cell_type": "code",
   "execution_count": 9,
   "metadata": {},
   "outputs": [],
   "source": [
    "def L_model_forward(X, parameters, structure):\n",
    "    \n",
    "    \"\"\"\n",
    "    Implement forward propagation for the network.\n",
    "    \n",
    "    Arguments:\n",
    "    X -- data, numpy array of shape (1, number of examples).\n",
    "    parameters -- output of initialize_parameters_deep().\n",
    "    structure -- python list pairing each layer with its corresponding activation function.\n",
    "    \n",
    "    Returns:\n",
    "    AL -- last post-activation value.\n",
    "    caches -- list of caches containing:\n",
    "                every cache of linear_activation_forward() (there are L of them, indexed from 0 to L-1).\n",
    "    \"\"\"\n",
    "    \n",
    "    caches = []\n",
    "    A = X\n",
    "    \n",
    "    for l, activation in (structure):\n",
    "\n",
    "        if l == L:\n",
    "            AL, cache = linear_activation_forward(A, parameters['W'+str(L)], parameters['b'+str(L)], activation = activation)\n",
    "            caches.append(cache)\n",
    "        \n",
    "        else:\n",
    "            A_prev = A\n",
    "            A, cache = linear_activation_forward(A_prev, parameters['W'+str(l)], parameters['b'+str(l)], activation = activation)\n",
    "            caches.append(cache)\n",
    "\n",
    "    \n",
    "    return AL, caches\n",
    "    "
   ]
  },
  {
   "cell_type": "code",
   "execution_count": 10,
   "metadata": {},
   "outputs": [],
   "source": [
    "def compute_cost(AL, Y):\n",
    "    \n",
    "    \"\"\"\n",
    "    Implements the cost function.\n",
    "\n",
    "    Arguments:\n",
    "    AL -- prediction vector corresponding to your y mappings, shape (1, number of examples).\n",
    "    Y -- true \"mapping\" vector (for example: containing y = 12 if x = 0 ), shape (1, number of examples).\n",
    "\n",
    "    Returns:\n",
    "    cost -- mean squared error.\n",
    "    \"\"\"\n",
    "    \n",
    "    #simple mean squared error\n",
    "    cost = 1/(2*m) * np.sum(np.square(AL - Y))\n",
    "    \n",
    "    cost = np.squeeze(cost)\n",
    "    \n",
    "    return cost"
   ]
  },
  {
   "cell_type": "code",
   "execution_count": 11,
   "metadata": {},
   "outputs": [],
   "source": [
    "def linear_backward(dZ, cache):\n",
    "    \n",
    "    \"\"\"\n",
    "    Implement the linear portion of backward propagation for a single layer (layer l).\n",
    "\n",
    "    Arguments:\n",
    "    dZ -- Gradient of the cost with respect to the linear output (of current layer l).\n",
    "    cache -- tuple of values (A_prev, W, b) coming from the forward propagation in the current layer.\n",
    "\n",
    "    Returns:\n",
    "    dA_prev -- Gradient of the cost with respect to the activation (of the previous layer l-1), same shape as A_prev.\n",
    "    dW -- Gradient of the cost with respect to W (current layer l), same shape as W.\n",
    "    db -- Gradient of the cost with respect to b (current layer l), same shape as b.\n",
    "    \"\"\"\n",
    "\n",
    "    A_prev, W, b = cache\n",
    "    \n",
    "    dW = 1/m*np.dot(dZ,A_prev.T)\n",
    "    db = 1/m*np.sum(dZ, axis = 1, keepdims = True)\n",
    "    dA_prev = np.dot(W.T, dZ)\n",
    "    \n",
    "    return dA_prev, dW, db"
   ]
  },
  {
   "cell_type": "code",
   "execution_count": 12,
   "metadata": {},
   "outputs": [],
   "source": [
    "def linear_activation_backward(dA, cache, activation):\n",
    "    \n",
    "    \"\"\"\n",
    "    Implement the backward propagation for the LINEAR->ACTIVATION layer.\n",
    "    \n",
    "    Arguments:\n",
    "    dA -- post-activation gradient for current layer l.\n",
    "    cache -- tuple of values (linear_cache, activation_cache) we stored for computing backward propagation efficiently.\n",
    "    activation -- the activation to be used in this layer, stored as a text string: \"sigmoid\" or \"relu\" or \"linear\".\n",
    "    \n",
    "    Returns:\n",
    "    dA_prev -- Gradient of the cost with respect to the activation (of the previous layer l-1), same shape as A_prev.\n",
    "    dW -- Gradient of the cost with respect to W (current layer l), same shape as W.\n",
    "    db -- Gradient of the cost with respect to b (current layer l), same shape as b.\n",
    "    \"\"\"\n",
    "    \n",
    "    linear_cache, activation_cache = cache\n",
    "    \n",
    "    if activation == \"linear\":\n",
    "        dZ = utils.linear_function_backward(dA, activation_cache)\n",
    "        dA_prev, dW, db = linear_backward(dZ, linear_cache)    \n",
    "    \n",
    "    elif activation == \"sigmoid\":\n",
    "        dZ = utils.sigmoid_backward(dA, activation_cache)\n",
    "        dA_prev, dW, db = linear_backward(dZ, linear_cache)\n",
    "        \n",
    "    elif activation == \"relu\":\n",
    "        dZ = utils.relu_backward(dA, activation_cache)\n",
    "        dA_prev, dW, db = linear_backward(dZ, linear_cache)\n",
    "    \n",
    "    return dA_prev, dW, db"
   ]
  },
  {
   "cell_type": "code",
   "execution_count": 13,
   "metadata": {},
   "outputs": [],
   "source": [
    "def L_model_backward(AL, Y, caches, structure):\n",
    "    \n",
    "    \"\"\"\n",
    "    Implement the backward propagation for the network.\n",
    "    \n",
    "    Arguments:\n",
    "    AL -- prediction vector, output of the forward propagation (L_model_forward()).\n",
    "    Y -- true \"mapping\" vector.\n",
    "    caches -- a python tuple containing \"linear_cache\" and \"activation_cache\".\n",
    "    structure -- python list pairing each layer with its corresponding activation function.\n",
    "    \n",
    "    Returns:\n",
    "    grads -- A dictionary with the gradients\n",
    "             grads[\"dA\" + str(l)] = ... \n",
    "             grads[\"dW\" + str(l)] = ...\n",
    "             grads[\"db\" + str(l)] = ... \n",
    "    \"\"\"\n",
    "    \n",
    "    grads = {}\n",
    "    \n",
    "    #intialisation of dAL = dL/dA = 2(AL - Y)\n",
    "    dAL = 2*(AL - Y)\n",
    "    \n",
    "    for l, activation in reversed(structure):\n",
    "\n",
    "        if l == L:\n",
    "            #indexing of caches is from 0 to L-1 (L elements in total corresponding to each layer)\n",
    "            current_cache = caches[L-1]\n",
    "            dA_prev_temp, dW_temp, db_temp = linear_activation_backward(dAL, current_cache, activation)\n",
    "            grads['dA' + str(L-1)], grads['dW' + str(L)], grads['db' + str(L)] = dA_prev_temp, dW_temp, db_temp \n",
    "    \n",
    "        else:\n",
    "            current_cache = caches[l-1]\n",
    "            dA_prev_temp, dW_temp, db_temp = linear_activation_backward(grads['dA' + str(l)], current_cache, activation)\n",
    "            grads['dA' + str(l-1)], grads['dW' + str(l)], grads['db' + str(l)] = dA_prev_temp, dW_temp, db_temp\n",
    "        \n",
    "        \n",
    "    return grads"
   ]
  },
  {
   "cell_type": "code",
   "execution_count": 14,
   "metadata": {},
   "outputs": [],
   "source": [
    "def update_parameters(parameters, grads, learning_rate):\n",
    "    \n",
    "    \"\"\"\n",
    "    Implement the function to update parameters using gradient descent.\n",
    "    \n",
    "    Arguments:\n",
    "    parameters -- python dictionary containing your parameters.\n",
    "    grads -- python dictionary containing your gradients, output of L_model_backward().\n",
    "    learning_rate -- learning rate of the gradient descent update rule.\n",
    "    \n",
    "    Returns:\n",
    "    parameters -- python dictionary containing your updated parameters \n",
    "                  parameters[\"W\" + str(l)] = ... \n",
    "                  parameters[\"b\" + str(l)] = ...\n",
    "    \"\"\"\n",
    "    \n",
    "    for l in range(L):\n",
    "        parameters['W'+str(l+1)] = parameters['W'+str(l+1)] - learning_rate*grads['dW'+str(l+1)]\n",
    "        parameters['b'+str(l+1)] = parameters['b'+str(l+1)] - learning_rate*grads['db'+str(l+1)]\n",
    "        \n",
    "    return parameters\n",
    "        "
   ]
  },
  {
   "cell_type": "markdown",
   "metadata": {},
   "source": [
    "### Creating model:\n",
    "\n",
    "To build the neural network we will create a model function that will bring use of all the specific functions, implemented earlier, in a cohesive way.\n",
    "We will also render a plot to help visualise the value of the cost after every 10000 iterations of gradient descent. We plot on a log scale so as to visualise even very small changes in the cost in later iterations."
   ]
  },
  {
   "cell_type": "code",
   "execution_count": 15,
   "metadata": {},
   "outputs": [],
   "source": [
    "def dnn_model(X, Y, architecture, activations, learning_rate, num_iterations, print_cost):\n",
    "    \n",
    "    \"\"\"\n",
    "    Implements a L-layer neural network.\n",
    "    \n",
    "    Arguments:\n",
    "    X -- data, numpy array of shape (1, number of examples).\n",
    "    Y -- numpy array of shape (1, number of examples) containing corresponding y mappings\n",
    "    of the function f: x -> y.\n",
    "    architecture -- python list containing the configuration of the network.\n",
    "    activations -- python list containing the names of activations for corresponding layers.\n",
    "    learning_rate -- learning rate of the gradient descent update rule.\n",
    "    num_iterations -- number of iterations of the optimization loop.\n",
    "    print_cost -- if True, it prints the cost every 10000 steps.\n",
    "    \n",
    "    Returns:\n",
    "    parameters -- parameters learnt by the model. They can then be used to predict.\n",
    "    structure -- python list pairing each layer with its corresponding activation function.\n",
    "    \"\"\"\n",
    "    \n",
    "    #registering cost after each 1000 iterations\n",
    "    costs = []\n",
    "    \n",
    "    all_layers_dims = layer_structure(X, Y, architecture)\n",
    "    parameters = initialize_parameters_deep(all_layers_dims)\n",
    "    structure = activation_structure(activations)\n",
    "    \n",
    "    for i in range(num_iterations):\n",
    "        \n",
    "        AL, caches = L_model_forward(X, parameters, structure)\n",
    "        \n",
    "        cost = compute_cost(AL, Y)\n",
    "        \n",
    "        grads = L_model_backward(AL, Y, caches, structure)\n",
    "        \n",
    "        parameters = update_parameters(parameters, grads, learning_rate)\n",
    "        \n",
    "        if print_cost and i % 10000 == 0:\n",
    "            print(\"Cost after iteration\" , i, \"is\", cost)\n",
    "            costs.append(cost)\n",
    "    \n",
    "    #plotting cost vs iterations\n",
    "    fig, ax = plt.subplots()\n",
    "    ax.plot(np.squeeze(costs))\n",
    "    ax.set_xlabel('number of iterations')\n",
    "    ax.set_ylabel('cost')\n",
    "    ax.set_yscale('log')\n",
    "    \n",
    "    return parameters, structure\n",
    "            "
   ]
  },
  {
   "cell_type": "markdown",
   "metadata": {},
   "source": [
    "### Training model:\n",
    "\n",
    "Finally we will train our model by passing in the data and appropriate keyword arguments.\n",
    "We will train for 100000 iterations of gradient descent. I have chosen 3 layers with sigmoid, relu, and linear activations respectively. Optimal learning rate was determined by hit and trial method."
   ]
  },
  {
   "cell_type": "code",
   "execution_count": 16,
   "metadata": {
    "scrolled": false
   },
   "outputs": [
    {
     "name": "stdout",
     "output_type": "stream",
     "text": [
      "Cost after iteration 0 is 197.49539282126293\n",
      "Cost after iteration 10000 is 5.29387905571494\n",
      "Cost after iteration 20000 is 0.8805687659740656\n",
      "Cost after iteration 30000 is 0.3665101878586403\n",
      "Cost after iteration 40000 is 0.21108962478174528\n",
      "Cost after iteration 50000 is 0.14599333847113\n",
      "Cost after iteration 60000 is 0.11699198823729645\n",
      "Cost after iteration 70000 is 0.10166461290098272\n",
      "Cost after iteration 80000 is 0.09085294715097803\n",
      "Cost after iteration 90000 is 0.07791192746300145\n"
     ]
    },
    {
     "data": {
      "image/png": "[encoded data removed]",
      "text/plain": [
       "<Figure size 900x540 with 1 Axes>"
      ]
     },
     "metadata": {},
     "output_type": "display_data"
    }
   ],
   "source": [
    "parameters, structure = dnn_model(X, Y, [10, 5, 1], [\"sigmoid\", \"relu\", \"linear\"], num_iterations = 100000, print_cost=True, learning_rate = 5e-3)"
   ]
  },
  {
   "cell_type": "markdown",
   "metadata": {},
   "source": [
    "### Validating model:\n",
    "\n",
    "Then we will validate our model by using the validtaion data created earlier. First we will predict on validation data (X_Val), then we will compare the predicted values with the actual values (Y_Val) and determine the difference between the two."
   ]
  },
  {
   "cell_type": "code",
   "execution_count": 17,
   "metadata": {},
   "outputs": [],
   "source": [
    "def predict(X_Val, parameters, structure):\n",
    "    \n",
    "    \"\"\"\n",
    "    Implements a function to predict on validation set.\n",
    "    \n",
    "    Arguments:\n",
    "    X_Val -- validation data, numpy array of shape (1, number of examples in validation set).\n",
    "    parameters -- parameters learnt by the model. They can then be used to predict.\n",
    "    structure -- python list pairing each layer with its corresponding activation function.\n",
    "    \n",
    "    Returns:\n",
    "    predictions -- prediction vector, output of the forward propagation (L_model_forward()).\n",
    "    \"\"\"\n",
    "    \n",
    "    AL, _ = L_model_forward(X_Val, parameters, structure)\n",
    "    \n",
    "    predictions = AL\n",
    "    \n",
    "    return predictions"
   ]
  },
  {
   "cell_type": "code",
   "execution_count": 18,
   "metadata": {},
   "outputs": [],
   "source": [
    "def validation_model(X_Val, Y_Val, parameters, structure):\n",
    "    \n",
    "    \"\"\"\n",
    "    Implements a function to validate our predictions against validation set.\n",
    "    \n",
    "    Arguments:\n",
    "    X_Val -- validation data, numpy array of shape (1, number of examples in validation set).\n",
    "    Y_Val -- numpy array of shape (1, number of examples in validation set) containing corresponding\n",
    "    y mappings of the function f: x -> y from validation set.\n",
    "    parameters -- parameters learnt by the model. They can then be used to predict.\n",
    "    structure -- python list pairing each layer with its corresponding activation function.\n",
    "    \n",
    "    Returns:\n",
    "    difference -- vector values, containing absolute differences between predicted and actual values.\n",
    "    \"\"\"\n",
    "    \n",
    "    AL = predict(X_Val, parameters, structure)\n",
    "    \n",
    "    #calculating difference against actual values of the polynomial function\n",
    "    difference = np.abs(AL - Y_Val)\n",
    "\n",
    "    return difference\n"
   ]
  },
  {
   "cell_type": "code",
   "execution_count": 19,
   "metadata": {},
   "outputs": [],
   "source": [
    "predictions = predict(X_Val, parameters, structure)\n",
    "difference = validation_model(X_Val, Y_Val, parameters, structure)"
   ]
  },
  {
   "cell_type": "markdown",
   "metadata": {},
   "source": [
    "### Plotting comparisons: \n",
    "\n",
    "Finally we will plot the comparison between the actual values from our validation set and the values predicted by the model.\n",
    "We will plot all three - prediction, validation data, and the difference between the two on same axes to better visualise the comparisons.\n",
    "Note - If the validation data points are not visible that is because they have been overlapped by the prediction data points."
   ]
  },
  {
   "cell_type": "code",
   "execution_count": 20,
   "metadata": {
    "scrolled": false
   },
   "outputs": [
    {
     "data": {
      "text/plain": [
       "(-5.0, 5.0, -70.0, 70.0)"
      ]
     },
     "execution_count": 20,
     "metadata": {},
     "output_type": "execute_result"
    },
    {
     "data": {
      "image/png": "[encoded data removed]",
      "text/plain": [
       "<Figure size 900x540 with 1 Axes>"
      ]
     },
     "metadata": {},
     "output_type": "display_data"
    }
   ],
   "source": [
    "#rendering plot for comparison\n",
    "fig, ax = plt.subplots()\n",
    "ax.scatter(X_Val, Y_Val, label = 'Validation Data')\n",
    "ax.scatter(X_Val, predictions, label = 'Prediction')\n",
    "ax.scatter(X_Val, difference, label = 'Difference')\n",
    "ax.set_title('Comparisons')\n",
    "ax.legend()\n",
    "ax.axis([-5, 5, -70, 70])"
   ]
  },
  {
   "cell_type": "markdown",
   "metadata": {},
   "source": [
    "## Observations:\n",
    "\n",
    "* The model perfomance is really good in the domain in which it was trained i.e. [-3, 2.5] but the performance deteriorates outside of that domain.\n",
    "* Hence the model is clearly overfitting."
   ]
  },
  {
   "cell_type": "code",
   "execution_count": null,
   "metadata": {},
   "outputs": [],
   "source": []
  }
 ],
 "metadata": {
  "kernelspec": {
   "display_name": "Python 3",
   "language": "python",
   "name": "python3"
  },
  "language_info": {
   "codemirror_mode": {
    "name": "ipython",
    "version": 3
   },
   "file_extension": ".py",
   "mimetype": "text/x-python",
   "name": "python",
   "nbconvert_exporter": "python",
   "pygments_lexer": "ipython3",
   "version": "3.8.8"
  }
 },
 "nbformat": 4,
 "nbformat_minor": 4
}
